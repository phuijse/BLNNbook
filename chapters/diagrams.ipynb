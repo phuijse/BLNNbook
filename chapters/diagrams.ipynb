{
 "cells": [
  {
   "cell_type": "code",
   "execution_count": null,
   "metadata": {},
   "outputs": [],
   "source": [
    "import daft\n",
    "import matplotlib.pyplot as plt\n",
    "%matplotlib notebook"
   ]
  },
  {
   "cell_type": "code",
   "execution_count": null,
   "metadata": {},
   "outputs": [],
   "source": [
    "# declare the shape and size, and various styling\n",
    "pgm = daft.PGM(shape=[4.5, 3.5], origin=[0, 0], grid_unit=4,\n",
    "               label_params={'fontsize':18}, observed_style='shaded')\n",
    "\n",
    "\n",
    "\n",
    "# observed data\n",
    "pgm.add_node(daft.Node(\"y\", r\"$y_i$\", 1, 1.4, scale=2, observed=True))\n",
    "pgm.add_node(daft.Node(\"x\", r\"$\\mathbf{x}_{i}$\", 0.25, 1.4, scale=2, fixed=True, offset=(0,-30)))\n",
    "\n",
    "\n",
    "pgm.add_plate(daft.Plate([0.0, 1, 1.5, 0.9], label=r\"$i=1,2,\\ldots,N$\", shift=-0.1))\n",
    "\n",
    "\n",
    "# parameters\n",
    "pgm.add_node(daft.Node(\"w\", r\"$w$\", 0.5, 2.4, scale=2))\n",
    "pgm.add_node(daft.Node(\"w_mu\", r\"$\\mu_w$\", 0.5 - 0.2, 3, scale=2, fixed=True, offset=(0,10)))\n",
    "pgm.add_node(daft.Node(\"w_sd\", r\"$\\sigma_w^{2}$\", 0.5 + 0.2, 3, scale=2, fixed=True, offset=(0,6)))\n",
    "\n",
    "pgm.add_node(daft.Node(\"b\", r\"$b$\", 1.5, 2.4, scale=2))\n",
    "pgm.add_node(daft.Node(\"b_mu\", r\"$\\mu_b$\", 1.5 - 0.2, 3, scale=2, fixed=True, offset=(0,10)))\n",
    "pgm.add_node(daft.Node(\"b_sd\", r\"$\\sigma_b^{2}$\", 1.5 + 0.2, 3, scale=2, fixed=True, offset=(0,6)))\n",
    "\n",
    "# error\n",
    "pgm.add_node(daft.Node(\"epsilon\", r\"$\\sigma_\\epsilon^2$\", 2, 1.4, scale=2, fixed=True, offset=(0,10)))\n",
    "\n",
    "# Draw arrows\n",
    "pgm.add_edge(\"b_mu\", \"b\")\n",
    "pgm.add_edge(\"b_sd\", \"b\")\n",
    "pgm.add_edge(\"b\", \"y\")\n",
    "pgm.add_edge(\"w_mu\", \"w\")\n",
    "pgm.add_edge(\"w_sd\", \"w\")\n",
    "pgm.add_edge(\"w\", \"y\")\n",
    "pgm.add_edge(\"x\", \"y\")\n",
    "pgm.add_edge(\"epsilon\", \"y\")\n",
    "\n",
    "x0 = 3\n",
    "pgm.add_node(\"latent\", \"\", x0 - 0.5, 1, 1)\n",
    "pgm.add_text(x0 - 0.225, 1 - 0.08, \"= latent variable\")\n",
    "pgm.add_node(\"observed\", \"\", x0 - 0.5, 1.3, 1, observed=True)\n",
    "pgm.add_text(x0 - 0.225, 1.3 - 0.08, \"= observed variable\")\n",
    "pgm.add_node(\"hyperparameter\", \"\", x0 - 0.5, 1.6, 1, fixed=True)\n",
    "pgm.add_text(x0 - 0.225, 1.6 - 0.08, \"= hyperparameter\")\n",
    "\n",
    "pgm.render()"
   ]
  },
  {
   "cell_type": "markdown",
   "metadata": {},
   "source": [
    "## Link dump \n",
    "\n",
    "https://www.inference.vc/maximum-likelihood-for-representation-learning-2/\n",
    "\n",
    "https://www.reddit.com/r/MachineLearning/comments/9g1rxs/d_how_is_the_log_marginal_likelihood_of/\n",
    "\n",
    "https://colinraffel.com/blog/gans-and-divergence-minimization.html\n",
    "\n",
    "https://www.inference.vc/maximum-likelihood-for-representation-learning-2/\n",
    "\n",
    "https://medium.com/@jonathan_hui/gan-why-it-is-so-hard-to-train-generative-advisory-networks-819a86b3750b\n",
    "\n",
    "\n",
    "https://www.tuananhle.co.uk/notes/reverse-forward-kl.html\n",
    "\n",
    "https://blog.evjang.com/2016/08/variational-bayes.html\n",
    "\n",
    "https://dibyaghosh.com/blog/probability/kldivergence.html\n",
    "\n",
    "https://wiseodd.github.io/techblog/2016/12/21/forward-reverse-kl/\n",
    "\n",
    "http://willwolf.io/2018/03/31/gaussian-algebra-to-gaussian-processes-part-1/\n",
    "\n",
    "http://andymiller.github.io/2016/11/23/vb.html\n",
    "\n",
    "http://mlg.eng.cam.ac.uk/zoubin/talks/uai05tutorial-b.pdf"
   ]
  },
  {
   "cell_type": "code",
   "execution_count": null,
   "metadata": {},
   "outputs": [],
   "source": []
  }
 ],
 "metadata": {
  "kernelspec": {
   "display_name": "Python 3",
   "language": "python",
   "name": "python3"
  },
  "language_info": {
   "codemirror_mode": {
    "name": "ipython",
    "version": 3
   },
   "file_extension": ".py",
   "mimetype": "text/x-python",
   "name": "python",
   "nbconvert_exporter": "python",
   "pygments_lexer": "ipython3",
   "version": "3.7.3"
  }
 },
 "nbformat": 4,
 "nbformat_minor": 2
}
