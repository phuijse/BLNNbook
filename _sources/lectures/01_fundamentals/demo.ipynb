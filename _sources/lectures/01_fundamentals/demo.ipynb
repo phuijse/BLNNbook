{
 "cells": [
  {
   "cell_type": "markdown",
   "id": "olive-surge",
   "metadata": {},
   "source": [
    "# demo bokeh"
   ]
  },
  {
   "cell_type": "code",
   "execution_count": null,
   "id": "understood-cartoon",
   "metadata": {},
   "outputs": [],
   "source": [
    "%matplotlib notebook\n",
    "import matplotlib.pyplot as plt\n",
    "import scipy.stats\n",
    "import ipywidgets as widgets\n",
    "\n",
    "fig, ax = plt.subplots(figsize=(6, 3))\n",
    "\n",
    "@widgets.interact(p=widgets.FloatSlider(min=0, max=1, value=0.5, step=0.1))\n",
    "def update(p):\n",
    "    x = scipy.stats.bernoulli.rvs(p, size=100)\n",
    "    ax.cla()\n",
    "    ax.hist(x, density=True, range=(0, 1), bins=10)"
   ]
  },
  {
   "cell_type": "code",
   "execution_count": null,
   "id": "black-studio",
   "metadata": {},
   "outputs": [],
   "source": []
  }
 ],
 "metadata": {
  "kernelspec": {
   "display_name": "Python 3",
   "language": "python",
   "name": "python3"
  },
  "language_info": {
   "codemirror_mode": {
    "name": "ipython",
    "version": 3
   },
   "file_extension": ".py",
   "mimetype": "text/x-python",
   "name": "python",
   "nbconvert_exporter": "python",
   "pygments_lexer": "ipython3",
   "version": "3.9.6"
  }
 },
 "nbformat": 4,
 "nbformat_minor": 5
}
