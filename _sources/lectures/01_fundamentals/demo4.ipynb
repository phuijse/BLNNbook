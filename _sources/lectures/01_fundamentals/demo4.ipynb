{
 "cells": [
  {
   "cell_type": "markdown",
   "id": "olive-surge",
   "metadata": {},
   "source": [
    "# demo holomap"
   ]
  },
  {
   "cell_type": "code",
   "execution_count": null,
   "id": "built-burning",
   "metadata": {},
   "outputs": [],
   "source": [
    "import holoviews as hv\n",
    "from holoviews import opts\n",
    "import numpy as np\n",
    "import scipy.stats\n",
    "hv.extension('bokeh')"
   ]
  },
  {
   "cell_type": "code",
   "execution_count": null,
   "id": "turkish-interaction",
   "metadata": {},
   "outputs": [],
   "source": [
    "import numpy as np\n",
    "\n",
    "def PMF(p, x=[0, 1]):\n",
    "    dist = scipy.stats.bernoulli(p=p)\n",
    "    return hv.Curve((x, [dist.pmf(k) for k in x]))\n",
    "\n",
    "hmap = hv.HoloMap(kdims='p')\n",
    "for p in np.linspace(0, 1, num=5):\n",
    "    hmap[p] = PMF(p)\n",
    "\n",
    "hmap"
   ]
  },
  {
   "cell_type": "code",
   "execution_count": null,
   "id": "d11bb4ff",
   "metadata": {},
   "outputs": [],
   "source": []
  }
 ],
 "metadata": {
  "kernelspec": {
   "display_name": "Python 3",
   "language": "python",
   "name": "python3"
  },
  "language_info": {
   "codemirror_mode": {
    "name": "ipython",
    "version": 3
   },
   "file_extension": ".py",
   "mimetype": "text/x-python",
   "name": "python",
   "nbconvert_exporter": "python",
   "pygments_lexer": "ipython3",
   "version": "3.9.6"
  }
 },
 "nbformat": 4,
 "nbformat_minor": 5
}
