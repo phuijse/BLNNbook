{
 "cells": [
  {
   "cell_type": "code",
   "execution_count": null,
   "metadata": {},
   "outputs": [],
   "source": [
    "%matplotlib notebook\n",
    "import numpy as np\n",
    "import matplotlib.pyplot as plt\n",
    "import torch\n",
    "import pyro\n",
    "import torchvision\n",
    "\n",
    "# CHANGE THIS PATH\n",
    "\n",
    "path_to_datasets = '/home/phuijse/datasets'\n",
    "\n",
    "\n",
    "mnist_train_data = torchvision.datasets.MNIST(path_to_datasets, train=True, download=True,\n",
    "                                              transform=torchvision.transforms.ToTensor())\n",
    "mnist_test_data = torchvision.datasets.MNIST(path_to_datasets, train=False, download=True,\n",
    "                                             transform=torchvision.transforms.ToTensor())\n",
    "\n",
    "from torch.utils.data import DataLoader, SubsetRandomSampler\n",
    "np.random.seed(0)\n",
    "idx = list(range(len(mnist_train_data)))\n",
    "np.random.shuffle(idx)\n",
    "split = int(0.7*len(idx))\n",
    "\n",
    "train_loader = DataLoader(mnist_train_data, batch_size=128, drop_last=True,\n",
    "                          sampler=SubsetRandomSampler(idx[:split]))\n",
    "\n",
    "valid_loader = DataLoader(mnist_train_data, batch_size=128, drop_last=True,\n",
    "                          sampler=SubsetRandomSampler(idx[split:]))"
   ]
  },
  {
   "cell_type": "markdown",
   "metadata": {},
   "source": [
    "### Practical activity\n",
    "\n",
    "Consider the MNIST dataset (torch dataset and dataloaders in the previous block)\n",
    "\n",
    "1. Write a decoder network that recieves a latent vector and returns an MNIST digit\n",
    "1. Write an encoder network that receives an MNIST digit and returns the parameters of the approximate posterior \n",
    "1. Write a Variational Autoencoder with Pyro\n",
    "    1. Use a Bernoulli distribution for the likelihood of the generative model\n",
    "    1. Use a Standard normal prior for the latent variable of the generative model\n",
    "    1. Use a Normal distribution for the approximate poster\n",
    "1. Train the model using the Mean Field ELBO"
   ]
  },
  {
   "cell_type": "code",
   "execution_count": null,
   "metadata": {},
   "outputs": [],
   "source": [
    "from pyro.distributions import Bernoulli, Normal\n",
    "\n",
    "class Encoder(torch.nn.Module):\n",
    "    def __init__(self):\n",
    "        super(Encoder, self).__init__()\n",
    "        return None\n",
    "    \n",
    "    def forward(self, x):\n",
    "        return None\n",
    "    \n",
    "class Decoder(torch.nn.Module):\n",
    "    def __init__(self):\n",
    "        super(Decoder, self).__init__()\n",
    "        return None\n",
    "    \n",
    "    def forward(self, z):\n",
    "        return None\n",
    "    \n",
    "class VariationalAutoEncoder(torch.nn.Module):\n",
    "    \n",
    "    def __init__(self):\n",
    "        super(VariationalAutoEncoder, self).__init__() \n",
    "        self.encoder = Encoder()\n",
    "        self.decoder = Decoder()\n",
    "        \n",
    "    def model(self, x):\n",
    "        pyro.module(\"decoder\", self.decoder)\n",
    "        \n",
    "    \n",
    "    def guide(self, x):\n",
    "        pyro.module(\"encoder\", self.encoder)\n",
    "        "
   ]
  },
  {
   "cell_type": "code",
   "execution_count": null,
   "metadata": {},
   "outputs": [],
   "source": [
    "pyro.enable_validation(True)\n",
    "pyro.clear_param_store()\n",
    "\n",
    "vae = VariationalAutoEncoder()\n",
    "svi = pyro.infer.SVI(model=vae.model, \n",
    "                     guide=vae.guide, \n",
    "                     optim=pyro.optim.Adam({\"lr\": 1e-2}), \n",
    "                     loss=pyro.infer.TraceMeanField_ELBO(), \n",
    "                     num_samples=100)"
   ]
  }
 ],
 "metadata": {
  "kernelspec": {
   "display_name": "Python 3",
   "language": "python",
   "name": "python3"
  },
  "language_info": {
   "codemirror_mode": {
    "name": "ipython",
    "version": 3
   },
   "file_extension": ".py",
   "mimetype": "text/x-python",
   "name": "python",
   "nbconvert_exporter": "python",
   "pygments_lexer": "ipython3",
   "version": "3.7.10"
  }
 },
 "nbformat": 4,
 "nbformat_minor": 2
}
